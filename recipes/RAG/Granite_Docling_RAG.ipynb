{
  "cells": [
    {
      "cell_type": "markdown",
      "metadata": {
        "id": "view-in-github",
        "colab_type": "text"
      },
      "source": [
        "<a href=\"https://colab.research.google.com/github/webmavilchez/Mailspring/blob/master/recipes/RAG/Granite_Docling_RAG.ipynb\" target=\"_parent\"><img src=\"https://colab.research.google.com/assets/colab-badge.svg\" alt=\"Open In Colab\"/></a>"
      ]
    },
    {
      "cell_type": "markdown",
      "metadata": {
        "id": "U48hO1_V_JRG",
        "pycharm": {
          "name": "#%% md\n"
        }
      },
      "source": [
        "# Building an AI-Powered Document Retrieval System with Docling and Granite\n",
        "\n",
        "*Using IBM Granite Models*"
      ]
    },
    {
      "cell_type": "markdown",
      "metadata": {
        "id": "_eDALN1A9LF8"
      },
      "source": [
        "## Recipe Overview\n",
        "\n",
        "Welcome to this Granite recipe, in this recipe, you'll learn to harness the power of advanced tools to build AI-powered document retrieval systems. It will guide you through:\n",
        "\n",
        "- **Document Processing:** Learn to handle documents from various sources, parse and transform them into usable formats, and store them in vector databases using Docling.\n",
        "- **Retrieval-Augmented Generation (RAG):** Understand how to connect large language models (LLMs) like Granite with external knowledge bases to enhance query responses and generate valuable insights.\n",
        "- **LangChain for Workflow Integration:** Discover how to use LangChain to streamline and orchestrate document processing and retrieval workflows, enabling seamless interaction between different components of the system.\n",
        "\n",
        "This recipe leverages three cutting-edge technologies:\n",
        "\n",
        "1. **[Docling](https://github.com/DS4SD/docling):** An open-source toolkit for parsing and converting documents.\n",
        "2. **[Granite](https://www.ibm.com/granite/docs/models/granite/):** A state-of-the-art LLM available via an [API](https://www.ibm.com/topics/api) through Replicate, providing robust natural language capabilities.\n",
        "3. **[LangChain](https://github.com/langchain-ai/langchain):** A powerful framework for building applications powered by language models, designed to simplify complex workflows and integrate external tools seamlessly.\n",
        "\n",
        "By the end of this recipe, you will:\n",
        "- Gain proficiency in document processing and chunking.\n",
        "- Integrate vector databases to enhance retrieval capabilities.\n",
        "- Utilize RAG to perform efficient and accurate data retrieval for real-world applications.\n",
        "\n",
        "This recipe is designed for AI developers, researchers, and enthusiasts looking to enhance their knowledge of document management and advanced NLP techniques.\n"
      ]
    },
    {
      "cell_type": "markdown",
      "metadata": {
        "id": "vooxv7ltEZBf"
      },
      "source": [
        "\n",
        "## Prerequisites\n",
        "\n",
        "- Familiarity with Python programming.\n",
        "- Basic understanding of large language models and natural language processing concepts.\n"
      ]
    },
    {
      "cell_type": "markdown",
      "metadata": {
        "id": "PN2mK175_JRH",
        "jupyter": {
          "outputs_hidden": false
        },
        "pycharm": {
          "name": "#%% md\n"
        }
      },
      "source": [
        "## Step 1: Setting up the environment"
      ]
    },
    {
      "cell_type": "markdown",
      "metadata": {
        "id": "Wfg8kTVr_JRH"
      },
      "source": [
        "Ensure you are running python 3.10 or 3.11 in a freshly-created virtual environment."
      ]
    },
    {
      "cell_type": "code",
      "execution_count": 1,
      "metadata": {
        "id": "UEoM938B_JRH"
      },
      "outputs": [],
      "source": [
        "import sys\n",
        "assert sys.version_info >= (3, 10) and sys.version_info < (3, 12), \"Use Python 3.10 or 3.11 to run this notebook.\""
      ]
    },
    {
      "cell_type": "markdown",
      "metadata": {
        "id": "4p_2cX1-_JRI",
        "jupyter": {
          "outputs_hidden": false
        },
        "pycharm": {
          "name": "#%% md\n"
        }
      },
      "source": [
        "## Step 2: Install dependencies"
      ]
    },
    {
      "cell_type": "code",
      "execution_count": 2,
      "metadata": {
        "id": "BfMWUUSs_JRI",
        "jupyter": {
          "outputs_hidden": false
        },
        "pycharm": {
          "name": "#%%\n"
        },
        "colab": {
          "base_uri": "https://localhost:8080/"
        },
        "outputId": "5fd23181-71da-4087-97ec-fd1e9d9483eb"
      },
      "outputs": [
        {
          "output_type": "stream",
          "name": "stdout",
          "text": [
            "Collecting git+https://github.com/ibm-granite-community/utils.git\n",
            "  Cloning https://github.com/ibm-granite-community/utils.git to /tmp/pip-req-build-7dncag2_\n",
            "  Running command git clone --filter=blob:none --quiet https://github.com/ibm-granite-community/utils.git /tmp/pip-req-build-7dncag2_\n",
            "  Resolved https://github.com/ibm-granite-community/utils.git to commit 5d67648927240b208a164d2466f0dc77200450e5\n",
            "  Installing build dependencies ... \u001b[?25l\u001b[?25hdone\n",
            "  Getting requirements to build wheel ... \u001b[?25l\u001b[?25hdone\n",
            "  Preparing metadata (pyproject.toml) ... \u001b[?25l\u001b[?25hdone\n",
            "Requirement already satisfied: transformers in /usr/local/lib/python3.11/dist-packages (4.48.3)\n",
            "Requirement already satisfied: langchain_community in /usr/local/lib/python3.11/dist-packages (0.3.18)\n",
            "Requirement already satisfied: langchain_huggingface in /usr/local/lib/python3.11/dist-packages (0.1.2)\n",
            "Requirement already satisfied: langchain_milvus in /usr/local/lib/python3.11/dist-packages (0.1.8)\n",
            "Requirement already satisfied: docling in /usr/local/lib/python3.11/dist-packages (2.25.0)\n",
            "Requirement already satisfied: replicate in /usr/local/lib/python3.11/dist-packages (1.0.4)\n",
            "Requirement already satisfied: python-dotenv in /usr/local/lib/python3.11/dist-packages (from ibm-granite-community-utils==0.1.dev49) (1.0.1)\n",
            "Requirement already satisfied: filelock in /usr/local/lib/python3.11/dist-packages (from transformers) (3.17.0)\n",
            "Requirement already satisfied: huggingface-hub<1.0,>=0.24.0 in /usr/local/lib/python3.11/dist-packages (from transformers) (0.28.1)\n",
            "Requirement already satisfied: numpy>=1.17 in /usr/local/lib/python3.11/dist-packages (from transformers) (1.26.4)\n",
            "Requirement already satisfied: packaging>=20.0 in /usr/local/lib/python3.11/dist-packages (from transformers) (24.2)\n",
            "Requirement already satisfied: pyyaml>=5.1 in /usr/local/lib/python3.11/dist-packages (from transformers) (6.0.2)\n",
            "Requirement already satisfied: regex!=2019.12.17 in /usr/local/lib/python3.11/dist-packages (from transformers) (2024.11.6)\n",
            "Requirement already satisfied: requests in /usr/local/lib/python3.11/dist-packages (from transformers) (2.32.3)\n",
            "Requirement already satisfied: tokenizers<0.22,>=0.21 in /usr/local/lib/python3.11/dist-packages (from transformers) (0.21.0)\n",
            "Requirement already satisfied: safetensors>=0.4.1 in /usr/local/lib/python3.11/dist-packages (from transformers) (0.5.2)\n",
            "Requirement already satisfied: tqdm>=4.27 in /usr/local/lib/python3.11/dist-packages (from transformers) (4.67.1)\n",
            "Requirement already satisfied: langchain-core<1.0.0,>=0.3.37 in /usr/local/lib/python3.11/dist-packages (from langchain_community) (0.3.37)\n",
            "Requirement already satisfied: langchain<1.0.0,>=0.3.19 in /usr/local/lib/python3.11/dist-packages (from langchain_community) (0.3.19)\n",
            "Requirement already satisfied: SQLAlchemy<3,>=1.4 in /usr/local/lib/python3.11/dist-packages (from langchain_community) (2.0.38)\n",
            "Requirement already satisfied: aiohttp<4.0.0,>=3.8.3 in /usr/local/lib/python3.11/dist-packages (from langchain_community) (3.11.12)\n",
            "Requirement already satisfied: tenacity!=8.4.0,<10,>=8.1.0 in /usr/local/lib/python3.11/dist-packages (from langchain_community) (9.0.0)\n",
            "Requirement already satisfied: dataclasses-json<0.7,>=0.5.7 in /usr/local/lib/python3.11/dist-packages (from langchain_community) (0.6.7)\n",
            "Requirement already satisfied: pydantic-settings<3.0.0,>=2.4.0 in /usr/local/lib/python3.11/dist-packages (from langchain_community) (2.8.1)\n",
            "Requirement already satisfied: langsmith<0.4,>=0.1.125 in /usr/local/lib/python3.11/dist-packages (from langchain_community) (0.3.9)\n",
            "Requirement already satisfied: httpx-sse<1.0.0,>=0.4.0 in /usr/local/lib/python3.11/dist-packages (from langchain_community) (0.4.0)\n",
            "Requirement already satisfied: sentence-transformers>=2.6.0 in /usr/local/lib/python3.11/dist-packages (from langchain_huggingface) (3.4.1)\n",
            "Requirement already satisfied: pymilvus<3.0.0,>=2.5.0 in /usr/local/lib/python3.11/dist-packages (from langchain_milvus) (2.5.4)\n",
            "Requirement already satisfied: beautifulsoup4<5.0.0,>=4.12.3 in /usr/local/lib/python3.11/dist-packages (from docling) (4.13.3)\n",
            "Requirement already satisfied: certifi>=2024.7.4 in /usr/local/lib/python3.11/dist-packages (from docling) (2025.1.31)\n",
            "Requirement already satisfied: docling-core<3.0.0,>=2.19.0 in /usr/local/lib/python3.11/dist-packages (from docling-core[chunking]<3.0.0,>=2.19.0->docling) (2.21.0)\n",
            "Requirement already satisfied: docling-ibm-models<4.0.0,>=3.4.0 in /usr/local/lib/python3.11/dist-packages (from docling) (3.4.0)\n",
            "Requirement already satisfied: docling-parse<4.0.0,>=3.3.0 in /usr/local/lib/python3.11/dist-packages (from docling) (3.4.0)\n",
            "Requirement already satisfied: easyocr<2.0,>=1.7 in /usr/local/lib/python3.11/dist-packages (from docling) (1.7.2)\n",
            "Requirement already satisfied: filetype<2.0.0,>=1.2.0 in /usr/local/lib/python3.11/dist-packages (from docling) (1.2.0)\n",
            "Requirement already satisfied: lxml<6.0.0,>=4.0.0 in /usr/local/lib/python3.11/dist-packages (from docling) (5.3.1)\n",
            "Requirement already satisfied: marko<3.0.0,>=2.1.2 in /usr/local/lib/python3.11/dist-packages (from docling) (2.1.2)\n",
            "Requirement already satisfied: openpyxl<4.0.0,>=3.1.5 in /usr/local/lib/python3.11/dist-packages (from docling) (3.1.5)\n",
            "Requirement already satisfied: pandas<3.0.0,>=2.1.4 in /usr/local/lib/python3.11/dist-packages (from docling) (2.2.2)\n",
            "Requirement already satisfied: pillow<12.0.0,>=10.0.0 in /usr/local/lib/python3.11/dist-packages (from docling) (11.1.0)\n",
            "Requirement already satisfied: pydantic<3.0.0,>=2.0.0 in /usr/local/lib/python3.11/dist-packages (from docling) (2.10.6)\n",
            "Requirement already satisfied: pypdfium2<5.0.0,>=4.30.0 in /usr/local/lib/python3.11/dist-packages (from docling) (4.30.1)\n",
            "Requirement already satisfied: python-docx<2.0.0,>=1.1.2 in /usr/local/lib/python3.11/dist-packages (from docling) (1.1.2)\n",
            "Requirement already satisfied: python-pptx<2.0.0,>=1.0.2 in /usr/local/lib/python3.11/dist-packages (from docling) (1.0.2)\n",
            "Requirement already satisfied: rtree<2.0.0,>=1.3.0 in /usr/local/lib/python3.11/dist-packages (from docling) (1.3.0)\n",
            "Requirement already satisfied: scipy<2.0.0,>=1.6.0 in /usr/local/lib/python3.11/dist-packages (from docling) (1.13.1)\n",
            "Requirement already satisfied: typer<0.13.0,>=0.12.5 in /usr/local/lib/python3.11/dist-packages (from docling) (0.12.5)\n",
            "Requirement already satisfied: httpx<1,>=0.21.0 in /usr/local/lib/python3.11/dist-packages (from replicate) (0.28.1)\n",
            "Requirement already satisfied: typing_extensions>=4.5.0 in /usr/local/lib/python3.11/dist-packages (from replicate) (4.12.2)\n",
            "Requirement already satisfied: aiohappyeyeballs>=2.3.0 in /usr/local/lib/python3.11/dist-packages (from aiohttp<4.0.0,>=3.8.3->langchain_community) (2.4.6)\n",
            "Requirement already satisfied: aiosignal>=1.1.2 in /usr/local/lib/python3.11/dist-packages (from aiohttp<4.0.0,>=3.8.3->langchain_community) (1.3.2)\n",
            "Requirement already satisfied: attrs>=17.3.0 in /usr/local/lib/python3.11/dist-packages (from aiohttp<4.0.0,>=3.8.3->langchain_community) (25.1.0)\n",
            "Requirement already satisfied: frozenlist>=1.1.1 in /usr/local/lib/python3.11/dist-packages (from aiohttp<4.0.0,>=3.8.3->langchain_community) (1.5.0)\n",
            "Requirement already satisfied: multidict<7.0,>=4.5 in /usr/local/lib/python3.11/dist-packages (from aiohttp<4.0.0,>=3.8.3->langchain_community) (6.1.0)\n",
            "Requirement already satisfied: propcache>=0.2.0 in /usr/local/lib/python3.11/dist-packages (from aiohttp<4.0.0,>=3.8.3->langchain_community) (0.3.0)\n",
            "Requirement already satisfied: yarl<2.0,>=1.17.0 in /usr/local/lib/python3.11/dist-packages (from aiohttp<4.0.0,>=3.8.3->langchain_community) (1.18.3)\n",
            "Requirement already satisfied: soupsieve>1.2 in /usr/local/lib/python3.11/dist-packages (from beautifulsoup4<5.0.0,>=4.12.3->docling) (2.6)\n",
            "Requirement already satisfied: marshmallow<4.0.0,>=3.18.0 in /usr/local/lib/python3.11/dist-packages (from dataclasses-json<0.7,>=0.5.7->langchain_community) (3.26.1)\n",
            "Requirement already satisfied: typing-inspect<1,>=0.4.0 in /usr/local/lib/python3.11/dist-packages (from dataclasses-json<0.7,>=0.5.7->langchain_community) (0.9.0)\n",
            "Requirement already satisfied: jsonref<2.0.0,>=1.1.0 in /usr/local/lib/python3.11/dist-packages (from docling-core<3.0.0,>=2.19.0->docling-core[chunking]<3.0.0,>=2.19.0->docling) (1.1.0)\n",
            "Requirement already satisfied: jsonschema<5.0.0,>=4.16.0 in /usr/local/lib/python3.11/dist-packages (from docling-core<3.0.0,>=2.19.0->docling-core[chunking]<3.0.0,>=2.19.0->docling) (4.23.0)\n",
            "Requirement already satisfied: latex2mathml<4.0.0,>=3.77.0 in /usr/local/lib/python3.11/dist-packages (from docling-core<3.0.0,>=2.19.0->docling-core[chunking]<3.0.0,>=2.19.0->docling) (3.77.0)\n",
            "Requirement already satisfied: tabulate<0.10.0,>=0.9.0 in /usr/local/lib/python3.11/dist-packages (from docling-core<3.0.0,>=2.19.0->docling-core[chunking]<3.0.0,>=2.19.0->docling) (0.9.0)\n",
            "Requirement already satisfied: semchunk<3.0.0,>=2.2.0 in /usr/local/lib/python3.11/dist-packages (from docling-core[chunking]<3.0.0,>=2.19.0->docling) (2.2.2)\n",
            "Requirement already satisfied: jsonlines<4.0.0,>=3.1.0 in /usr/local/lib/python3.11/dist-packages (from docling-ibm-models<4.0.0,>=3.4.0->docling) (3.1.0)\n",
            "Requirement already satisfied: opencv-python-headless<5.0.0.0,>=4.6.0.66 in /usr/local/lib/python3.11/dist-packages (from docling-ibm-models<4.0.0,>=3.4.0->docling) (4.11.0.86)\n",
            "Requirement already satisfied: torch<3.0.0,>=2.2.2 in /usr/local/lib/python3.11/dist-packages (from docling-ibm-models<4.0.0,>=3.4.0->docling) (2.5.1+cu124)\n",
            "Requirement already satisfied: torchvision<1,>=0 in /usr/local/lib/python3.11/dist-packages (from docling-ibm-models<4.0.0,>=3.4.0->docling) (0.20.1+cu124)\n",
            "Requirement already satisfied: scikit-image in /usr/local/lib/python3.11/dist-packages (from easyocr<2.0,>=1.7->docling) (0.25.2)\n",
            "Requirement already satisfied: python-bidi in /usr/local/lib/python3.11/dist-packages (from easyocr<2.0,>=1.7->docling) (0.6.6)\n",
            "Requirement already satisfied: Shapely in /usr/local/lib/python3.11/dist-packages (from easyocr<2.0,>=1.7->docling) (2.0.7)\n",
            "Requirement already satisfied: pyclipper in /usr/local/lib/python3.11/dist-packages (from easyocr<2.0,>=1.7->docling) (1.3.0.post6)\n",
            "Requirement already satisfied: ninja in /usr/local/lib/python3.11/dist-packages (from easyocr<2.0,>=1.7->docling) (1.11.1.3)\n",
            "Requirement already satisfied: anyio in /usr/local/lib/python3.11/dist-packages (from httpx<1,>=0.21.0->replicate) (3.7.1)\n",
            "Requirement already satisfied: httpcore==1.* in /usr/local/lib/python3.11/dist-packages (from httpx<1,>=0.21.0->replicate) (1.0.7)\n",
            "Requirement already satisfied: idna in /usr/local/lib/python3.11/dist-packages (from httpx<1,>=0.21.0->replicate) (3.10)\n",
            "Requirement already satisfied: h11<0.15,>=0.13 in /usr/local/lib/python3.11/dist-packages (from httpcore==1.*->httpx<1,>=0.21.0->replicate) (0.14.0)\n",
            "Requirement already satisfied: fsspec>=2023.5.0 in /usr/local/lib/python3.11/dist-packages (from huggingface-hub<1.0,>=0.24.0->transformers) (2024.10.0)\n",
            "Requirement already satisfied: langchain-text-splitters<1.0.0,>=0.3.6 in /usr/local/lib/python3.11/dist-packages (from langchain<1.0.0,>=0.3.19->langchain_community) (0.3.6)\n",
            "Requirement already satisfied: jsonpatch<2.0,>=1.33 in /usr/local/lib/python3.11/dist-packages (from langchain-core<1.0.0,>=0.3.37->langchain_community) (1.33)\n",
            "Requirement already satisfied: orjson<4.0.0,>=3.9.14 in /usr/local/lib/python3.11/dist-packages (from langsmith<0.4,>=0.1.125->langchain_community) (3.10.15)\n",
            "Requirement already satisfied: requests-toolbelt<2.0.0,>=1.0.0 in /usr/local/lib/python3.11/dist-packages (from langsmith<0.4,>=0.1.125->langchain_community) (1.0.0)\n",
            "Requirement already satisfied: zstandard<0.24.0,>=0.23.0 in /usr/local/lib/python3.11/dist-packages (from langsmith<0.4,>=0.1.125->langchain_community) (0.23.0)\n",
            "Requirement already satisfied: et-xmlfile in /usr/local/lib/python3.11/dist-packages (from openpyxl<4.0.0,>=3.1.5->docling) (2.0.0)\n",
            "Requirement already satisfied: python-dateutil>=2.8.2 in /usr/local/lib/python3.11/dist-packages (from pandas<3.0.0,>=2.1.4->docling) (2.8.2)\n",
            "Requirement already satisfied: pytz>=2020.1 in /usr/local/lib/python3.11/dist-packages (from pandas<3.0.0,>=2.1.4->docling) (2025.1)\n",
            "Requirement already satisfied: tzdata>=2022.7 in /usr/local/lib/python3.11/dist-packages (from pandas<3.0.0,>=2.1.4->docling) (2025.1)\n",
            "Requirement already satisfied: annotated-types>=0.6.0 in /usr/local/lib/python3.11/dist-packages (from pydantic<3.0.0,>=2.0.0->docling) (0.7.0)\n",
            "Requirement already satisfied: pydantic-core==2.27.2 in /usr/local/lib/python3.11/dist-packages (from pydantic<3.0.0,>=2.0.0->docling) (2.27.2)\n",
            "Requirement already satisfied: setuptools>69 in /usr/local/lib/python3.11/dist-packages (from pymilvus<3.0.0,>=2.5.0->langchain_milvus) (75.1.0)\n",
            "Requirement already satisfied: grpcio<=1.67.1,>=1.49.1 in /usr/local/lib/python3.11/dist-packages (from pymilvus<3.0.0,>=2.5.0->langchain_milvus) (1.67.1)\n",
            "Requirement already satisfied: protobuf>=3.20.0 in /usr/local/lib/python3.11/dist-packages (from pymilvus<3.0.0,>=2.5.0->langchain_milvus) (4.25.6)\n",
            "Requirement already satisfied: ujson>=2.0.0 in /usr/local/lib/python3.11/dist-packages (from pymilvus<3.0.0,>=2.5.0->langchain_milvus) (5.10.0)\n",
            "Requirement already satisfied: milvus-lite>=2.4.0 in /usr/local/lib/python3.11/dist-packages (from pymilvus<3.0.0,>=2.5.0->langchain_milvus) (2.4.11)\n",
            "Requirement already satisfied: XlsxWriter>=0.5.7 in /usr/local/lib/python3.11/dist-packages (from python-pptx<2.0.0,>=1.0.2->docling) (3.2.2)\n",
            "Requirement already satisfied: charset-normalizer<4,>=2 in /usr/local/lib/python3.11/dist-packages (from requests->transformers) (3.4.1)\n",
            "Requirement already satisfied: urllib3<3,>=1.21.1 in /usr/local/lib/python3.11/dist-packages (from requests->transformers) (2.3.0)\n",
            "Requirement already satisfied: scikit-learn in /usr/local/lib/python3.11/dist-packages (from sentence-transformers>=2.6.0->langchain_huggingface) (1.6.1)\n",
            "Requirement already satisfied: greenlet!=0.4.17 in /usr/local/lib/python3.11/dist-packages (from SQLAlchemy<3,>=1.4->langchain_community) (3.1.1)\n",
            "Requirement already satisfied: click>=8.0.0 in /usr/local/lib/python3.11/dist-packages (from typer<0.13.0,>=0.12.5->docling) (8.1.8)\n",
            "Requirement already satisfied: shellingham>=1.3.0 in /usr/local/lib/python3.11/dist-packages (from typer<0.13.0,>=0.12.5->docling) (1.5.4)\n",
            "Requirement already satisfied: rich>=10.11.0 in /usr/local/lib/python3.11/dist-packages (from typer<0.13.0,>=0.12.5->docling) (13.9.4)\n",
            "Requirement already satisfied: jsonpointer>=1.9 in /usr/local/lib/python3.11/dist-packages (from jsonpatch<2.0,>=1.33->langchain-core<1.0.0,>=0.3.37->langchain_community) (3.0.0)\n",
            "Requirement already satisfied: jsonschema-specifications>=2023.03.6 in /usr/local/lib/python3.11/dist-packages (from jsonschema<5.0.0,>=4.16.0->docling-core<3.0.0,>=2.19.0->docling-core[chunking]<3.0.0,>=2.19.0->docling) (2024.10.1)\n",
            "Requirement already satisfied: referencing>=0.28.4 in /usr/local/lib/python3.11/dist-packages (from jsonschema<5.0.0,>=4.16.0->docling-core<3.0.0,>=2.19.0->docling-core[chunking]<3.0.0,>=2.19.0->docling) (0.36.2)\n",
            "Requirement already satisfied: rpds-py>=0.7.1 in /usr/local/lib/python3.11/dist-packages (from jsonschema<5.0.0,>=4.16.0->docling-core<3.0.0,>=2.19.0->docling-core[chunking]<3.0.0,>=2.19.0->docling) (0.23.0)\n",
            "Requirement already satisfied: six>=1.5 in /usr/local/lib/python3.11/dist-packages (from python-dateutil>=2.8.2->pandas<3.0.0,>=2.1.4->docling) (1.17.0)\n",
            "Requirement already satisfied: markdown-it-py>=2.2.0 in /usr/local/lib/python3.11/dist-packages (from rich>=10.11.0->typer<0.13.0,>=0.12.5->docling) (3.0.0)\n",
            "Requirement already satisfied: pygments<3.0.0,>=2.13.0 in /usr/local/lib/python3.11/dist-packages (from rich>=10.11.0->typer<0.13.0,>=0.12.5->docling) (2.18.0)\n",
            "Requirement already satisfied: mpire[dill] in /usr/local/lib/python3.11/dist-packages (from semchunk<3.0.0,>=2.2.0->docling-core[chunking]<3.0.0,>=2.19.0->docling) (2.10.2)\n",
            "Requirement already satisfied: networkx in /usr/local/lib/python3.11/dist-packages (from torch<3.0.0,>=2.2.2->docling-ibm-models<4.0.0,>=3.4.0->docling) (3.4.2)\n",
            "Requirement already satisfied: jinja2 in /usr/local/lib/python3.11/dist-packages (from torch<3.0.0,>=2.2.2->docling-ibm-models<4.0.0,>=3.4.0->docling) (3.1.5)\n",
            "Requirement already satisfied: nvidia-cuda-nvrtc-cu12==12.4.127 in /usr/local/lib/python3.11/dist-packages (from torch<3.0.0,>=2.2.2->docling-ibm-models<4.0.0,>=3.4.0->docling) (12.4.127)\n",
            "Requirement already satisfied: nvidia-cuda-runtime-cu12==12.4.127 in /usr/local/lib/python3.11/dist-packages (from torch<3.0.0,>=2.2.2->docling-ibm-models<4.0.0,>=3.4.0->docling) (12.4.127)\n",
            "Requirement already satisfied: nvidia-cuda-cupti-cu12==12.4.127 in /usr/local/lib/python3.11/dist-packages (from torch<3.0.0,>=2.2.2->docling-ibm-models<4.0.0,>=3.4.0->docling) (12.4.127)\n",
            "Requirement already satisfied: nvidia-cudnn-cu12==9.1.0.70 in /usr/local/lib/python3.11/dist-packages (from torch<3.0.0,>=2.2.2->docling-ibm-models<4.0.0,>=3.4.0->docling) (9.1.0.70)\n",
            "Requirement already satisfied: nvidia-cublas-cu12==12.4.5.8 in /usr/local/lib/python3.11/dist-packages (from torch<3.0.0,>=2.2.2->docling-ibm-models<4.0.0,>=3.4.0->docling) (12.4.5.8)\n",
            "Requirement already satisfied: nvidia-cufft-cu12==11.2.1.3 in /usr/local/lib/python3.11/dist-packages (from torch<3.0.0,>=2.2.2->docling-ibm-models<4.0.0,>=3.4.0->docling) (11.2.1.3)\n",
            "Requirement already satisfied: nvidia-curand-cu12==10.3.5.147 in /usr/local/lib/python3.11/dist-packages (from torch<3.0.0,>=2.2.2->docling-ibm-models<4.0.0,>=3.4.0->docling) (10.3.5.147)\n",
            "Requirement already satisfied: nvidia-cusolver-cu12==11.6.1.9 in /usr/local/lib/python3.11/dist-packages (from torch<3.0.0,>=2.2.2->docling-ibm-models<4.0.0,>=3.4.0->docling) (11.6.1.9)\n",
            "Requirement already satisfied: nvidia-cusparse-cu12==12.3.1.170 in /usr/local/lib/python3.11/dist-packages (from torch<3.0.0,>=2.2.2->docling-ibm-models<4.0.0,>=3.4.0->docling) (12.3.1.170)\n",
            "Requirement already satisfied: nvidia-nccl-cu12==2.21.5 in /usr/local/lib/python3.11/dist-packages (from torch<3.0.0,>=2.2.2->docling-ibm-models<4.0.0,>=3.4.0->docling) (2.21.5)\n",
            "Requirement already satisfied: nvidia-nvtx-cu12==12.4.127 in /usr/local/lib/python3.11/dist-packages (from torch<3.0.0,>=2.2.2->docling-ibm-models<4.0.0,>=3.4.0->docling) (12.4.127)\n",
            "Requirement already satisfied: nvidia-nvjitlink-cu12==12.4.127 in /usr/local/lib/python3.11/dist-packages (from torch<3.0.0,>=2.2.2->docling-ibm-models<4.0.0,>=3.4.0->docling) (12.4.127)\n",
            "Requirement already satisfied: triton==3.1.0 in /usr/local/lib/python3.11/dist-packages (from torch<3.0.0,>=2.2.2->docling-ibm-models<4.0.0,>=3.4.0->docling) (3.1.0)\n",
            "Requirement already satisfied: sympy==1.13.1 in /usr/local/lib/python3.11/dist-packages (from torch<3.0.0,>=2.2.2->docling-ibm-models<4.0.0,>=3.4.0->docling) (1.13.1)\n",
            "Requirement already satisfied: mpmath<1.4,>=1.1.0 in /usr/local/lib/python3.11/dist-packages (from sympy==1.13.1->torch<3.0.0,>=2.2.2->docling-ibm-models<4.0.0,>=3.4.0->docling) (1.3.0)\n",
            "Requirement already satisfied: mypy-extensions>=0.3.0 in /usr/local/lib/python3.11/dist-packages (from typing-inspect<1,>=0.4.0->dataclasses-json<0.7,>=0.5.7->langchain_community) (1.0.0)\n",
            "Requirement already satisfied: sniffio>=1.1 in /usr/local/lib/python3.11/dist-packages (from anyio->httpx<1,>=0.21.0->replicate) (1.3.1)\n",
            "Requirement already satisfied: imageio!=2.35.0,>=2.33 in /usr/local/lib/python3.11/dist-packages (from scikit-image->easyocr<2.0,>=1.7->docling) (2.37.0)\n",
            "Requirement already satisfied: tifffile>=2022.8.12 in /usr/local/lib/python3.11/dist-packages (from scikit-image->easyocr<2.0,>=1.7->docling) (2025.2.18)\n",
            "Requirement already satisfied: lazy-loader>=0.4 in /usr/local/lib/python3.11/dist-packages (from scikit-image->easyocr<2.0,>=1.7->docling) (0.4)\n",
            "Requirement already satisfied: joblib>=1.2.0 in /usr/local/lib/python3.11/dist-packages (from scikit-learn->sentence-transformers>=2.6.0->langchain_huggingface) (1.4.2)\n",
            "Requirement already satisfied: threadpoolctl>=3.1.0 in /usr/local/lib/python3.11/dist-packages (from scikit-learn->sentence-transformers>=2.6.0->langchain_huggingface) (3.5.0)\n",
            "Requirement already satisfied: mdurl~=0.1 in /usr/local/lib/python3.11/dist-packages (from markdown-it-py>=2.2.0->rich>=10.11.0->typer<0.13.0,>=0.12.5->docling) (0.1.2)\n",
            "Requirement already satisfied: MarkupSafe>=2.0 in /usr/local/lib/python3.11/dist-packages (from jinja2->torch<3.0.0,>=2.2.2->docling-ibm-models<4.0.0,>=3.4.0->docling) (3.0.2)\n",
            "Requirement already satisfied: multiprocess>=0.70.15 in /usr/local/lib/python3.11/dist-packages (from mpire[dill]->semchunk<3.0.0,>=2.2.0->docling-core[chunking]<3.0.0,>=2.19.0->docling) (0.70.17)\n",
            "Requirement already satisfied: dill>=0.3.9 in /usr/local/lib/python3.11/dist-packages (from multiprocess>=0.70.15->mpire[dill]->semchunk<3.0.0,>=2.2.0->docling-core[chunking]<3.0.0,>=2.19.0->docling) (0.3.9)\n"
          ]
        }
      ],
      "source": [
        "! pip install \"git+https://github.com/ibm-granite-community/utils.git\" \\\n",
        "    transformers \\\n",
        "    langchain_community \\\n",
        "    langchain_huggingface \\\n",
        "    langchain_milvus \\\n",
        "    docling \\\n",
        "    replicate"
      ]
    },
    {
      "cell_type": "markdown",
      "metadata": {
        "id": "4gu-Oeay_JRJ"
      },
      "source": [
        "## Step 3: Selecting System Components"
      ]
    },
    {
      "cell_type": "markdown",
      "metadata": {
        "id": "EDZd6WEf_JRJ"
      },
      "source": [
        "### Choose your Embeddings Model"
      ]
    },
    {
      "cell_type": "markdown",
      "metadata": {
        "id": "KFuZBhG-_JRJ"
      },
      "source": [
        "Specify the model to use for generating embedding vectors from text. Here we will be using one of the new [Granite Embeddings models](https://huggingface.co/collections/ibm-granite/granite-embedding-models-6750b30c802c1926a35550bb)\n",
        "\n",
        "To use a model from another provider, replace this code cell with one from [this Embeddings Model recipe](https://github.com/ibm-granite-community/granite-kitchen/blob/main/recipes/Components/Langchain_Embeddings_Models.ipynb)."
      ]
    },
    {
      "cell_type": "code",
      "execution_count": 3,
      "metadata": {
        "id": "mvztNZly_JRJ"
      },
      "outputs": [],
      "source": [
        "from langchain_huggingface import HuggingFaceEmbeddings\n",
        "from transformers import AutoTokenizer\n",
        "\n",
        "tokenizer = AutoTokenizer.from_pretrained(\"ibm-granite/granite-3.2-8b-instruct\")\n",
        "\n",
        "embeddings_model = HuggingFaceEmbeddings(model_name=\"ibm-granite/granite-embedding-30m-english\")\n",
        "embeddings_tokenizer = AutoTokenizer.from_pretrained(\"ibm-granite/granite-embedding-30m-english\")"
      ]
    },
    {
      "cell_type": "markdown",
      "metadata": {
        "id": "ma8eWR10_JRJ"
      },
      "source": [
        "### Use the Granite model\n",
        "\n",
        "Select a Granite model from the [`ibm-granite`](https://replicate.com/ibm-granite) org on Replicate. Here we use the Replicate Langchain client to connect to the model.\n",
        "\n",
        "To get set up with Replicate, see [Getting Started with Replicate](https://github.com/ibm-granite-community/granite-kitchen/blob/main/recipes/Getting_Started/Getting_Started_with_Replicate.ipynb).\n",
        "\n",
        "To connect to a model on a provider other than Replicate, substitute this code cell with one from the [LLM component recipe](https://github.com/ibm-granite-community/granite-kitchen/blob/main/recipes/Components/Langchain_LLMs.ipynb)."
      ]
    },
    {
      "cell_type": "code",
      "execution_count": 4,
      "metadata": {
        "id": "Ckyj7Zrh_JRK",
        "colab": {
          "base_uri": "https://localhost:8080/"
        },
        "outputId": "36307389-e5bb-4d27-de79-726b3278fddc"
      },
      "outputs": [
        {
          "output_type": "stream",
          "name": "stdout",
          "text": [
            "REPLICATE_API_TOKEN loaded from Google Colab secret.\n"
          ]
        }
      ],
      "source": [
        "from langchain_community.llms import Replicate\n",
        "from ibm_granite_community.notebook_utils import get_env_var\n",
        "\n",
        "model = Replicate(\n",
        "    model=\"ibm-granite/granite-3.2-8b-instruct\",\n",
        "    replicate_api_token=get_env_var(\"REPLICATE_API_TOKEN\"),\n",
        "    model_kwargs={\n",
        "        \"max_tokens\": 1000, # Set the maximum number of tokens to generate as output.\n",
        "        \"min_tokens\": 100, # Set the minimum number of tokens to generate as output.\n",
        "    },\n",
        ")"
      ]
    },
    {
      "cell_type": "markdown",
      "metadata": {
        "id": "skQ8Xn0L_JRK"
      },
      "source": [
        "Now that we have the model downloaded, let's try asking it a question"
      ]
    },
    {
      "cell_type": "code",
      "execution_count": 5,
      "metadata": {
        "id": "-Sj3zZYE_JRK",
        "colab": {
          "base_uri": "https://localhost:8080/"
        },
        "outputId": "8af2386c-e221-4ce2-b73b-d827e9e8e503"
      },
      "outputs": [
        {
          "output_type": "stream",
          "name": "stdout",
          "text": [
            "The fight between Antonio Pantoja and Rani Yahya, not Asakura, took place at UFC 310. Pantoja won the fight via unanimous decision. There was no fight between Pantoja and Asakura at UFC 310.\n"
          ]
        }
      ],
      "source": [
        "query = \"Who won in the Pantoja vs Asakura fight at UFC 310?\"\n",
        "prompt_guide_template = \"\"\"\\\n",
        "<|start_of_role|>user<|end_of_role|>{prompt}<|end_of_text|>\n",
        "<|start_of_role|>assistant<|end_of_role|>\"\"\"\n",
        "prompt = prompt_guide_template.format(prompt=query)\n",
        "\n",
        "output = model.invoke(prompt)\n",
        "\n",
        "print(output)"
      ]
    },
    {
      "cell_type": "markdown",
      "metadata": {
        "id": "C_2KpI91JhNH"
      },
      "source": [
        "Now, I know that UFC 310 happened in 2024, and this does not seem to be the right Pantoja. The model doesn't seem to know the answer but at least understands that this matchup did not occur. Let's see if it has some specific UFC rules info."
      ]
    },
    {
      "cell_type": "code",
      "execution_count": 6,
      "metadata": {
        "id": "_eR6qTQzMX_a",
        "colab": {
          "base_uri": "https://localhost:8080/"
        },
        "outputId": "aee6aaa9-d6ae-4748-dd44-123c955b248c"
      },
      "outputs": [
        {
          "output_type": "stream",
          "name": "stdout",
          "text": [
            "In non-championship fights within the Ultimate Fighting Championship (UFC), also known as \"prelim\" fights, the weight allowance typically follows the standard rules for catchweight bouts. These are usually set at a maximum of a 5-pound (2.27 kg) allowance for non-title fights. \n",
            "\n",
            "For example, if a fighter is scheduled to compete in the Welterweight division (170 lbs), they can weigh up to 175 lbs for the fight. \n",
            "\n",
            "However, it's important to note that these rules can sometimes be negotiated between the fighters and the UFC, and exceptions can be made depending on various factors. \n",
            "\n",
            "For the most accurate and up-to-date information, it's always best to refer to the official UFC rules or contact the UFC directly.\n"
          ]
        }
      ],
      "source": [
        "query1 = \"How much weight allowance is allowed in non championship fights in the UFC?\"\n",
        "\n",
        "prompt = prompt_guide_template.format(prompt=query1)\n",
        "output = model.invoke(prompt)\n",
        "\n",
        "print(output)"
      ]
    },
    {
      "cell_type": "markdown",
      "metadata": {
        "id": "LkmllCgNNlcF"
      },
      "source": [
        "Based on the official UFC rules, this is also incorrect. Let's try getting some documents that contains this information for the model."
      ]
    },
    {
      "cell_type": "markdown",
      "metadata": {
        "id": "q2pGGBP7_JRJ"
      },
      "source": [
        "### Choose your Vector Database"
      ]
    },
    {
      "cell_type": "markdown",
      "metadata": {
        "id": "K4mMSwQx_JRJ"
      },
      "source": [
        "Specify the database to use for storing and retrieving embedding vectors.\n",
        "\n",
        "To connect to a vector database other than Milvus, replace this code cell with one from [this Vector Store recipe](https://github.com/ibm-granite-community/granite-kitchen/blob/main/recipes/Components/Langchain_Vector_Stores.ipynb)."
      ]
    },
    {
      "cell_type": "code",
      "execution_count": 7,
      "metadata": {
        "id": "MjaP-5Gp_JRJ",
        "colab": {
          "base_uri": "https://localhost:8080/"
        },
        "outputId": "4a39fafb-5e6e-43f2-8b49-2ddb473f44f8"
      },
      "outputs": [
        {
          "output_type": "stream",
          "name": "stdout",
          "text": [
            "The vector database will be saved to /tmp/milvus_7qileira.db\n"
          ]
        }
      ],
      "source": [
        "from langchain_milvus import Milvus\n",
        "import tempfile\n",
        "\n",
        "db_file = tempfile.NamedTemporaryFile(prefix=\"milvus_\", suffix=\".db\", delete=False).name\n",
        "print(f\"The vector database will be saved to {db_file}\")\n",
        "\n",
        "vector_db = Milvus(\n",
        "    embedding_function=embeddings_model,\n",
        "    connection_args={\"uri\": db_file},\n",
        "    auto_id=True,\n",
        "    enable_dynamic_field=True,\n",
        "    index_params={\"index_type\": \"AUTOINDEX\"},\n",
        ")"
      ]
    },
    {
      "cell_type": "markdown",
      "metadata": {
        "id": "nviHG3n7_JRK",
        "jupyter": {
          "outputs_hidden": false
        },
        "pycharm": {
          "name": "#%% md\n"
        }
      },
      "source": [
        "## Step 4: Building the Vector Database"
      ]
    },
    {
      "cell_type": "markdown",
      "metadata": {
        "id": "eZ7Guu7A_JRK"
      },
      "source": [
        "In this example, from a set of source documents, we use [Docling](https://github.com/DS4SD/docling) to convert the documents into text and then split the text into chunks, derive embedding vectors using the embedding model, and load it into the vector database. Creating this vector database will allow us to easily search across our documents, enabling us to use RAG."
      ]
    },
    {
      "cell_type": "markdown",
      "metadata": {
        "id": "HuB8kkzf_JRK"
      },
      "source": [
        "### Use Docling to download the documents, convert to text, and split into chunks"
      ]
    },
    {
      "cell_type": "markdown",
      "metadata": {
        "id": "se6So2yw_JRK"
      },
      "source": [
        "Here we have found a website that gives us information on UFC 310, as well as a PDF of the official UFC rules. Below, we will see that Docling can both convert and chunk the two documents."
      ]
    },
    {
      "cell_type": "code",
      "execution_count": 8,
      "metadata": {
        "id": "YNGz_0gZ_JRK",
        "colab": {
          "base_uri": "https://localhost:8080/"
        },
        "outputId": "ac33718d-4c8f-461e-c07e-5ad074b3be09"
      },
      "outputs": [
        {
          "output_type": "stream",
          "name": "stderr",
          "text": [
            "Token indices sequence length is longer than the specified maximum sequence length for this model (542 > 512). Running this sequence through the model will result in indexing errors\n"
          ]
        },
        {
          "output_type": "stream",
          "name": "stdout",
          "text": [
            "17 document chunks created\n"
          ]
        }
      ],
      "source": [
        "# Docling imports\n",
        "from docling.document_converter import DocumentConverter\n",
        "from docling_core.transforms.chunker.hybrid_chunker import HybridChunker\n",
        "from docling_core.types.doc.labels import DocItemLabel\n",
        "from langchain_core.documents import Document\n",
        "\n",
        "# Here are our documents, feel free to add more documents in formats that Docling supports\n",
        "sources = [\n",
        "    \"https://www.ufc.com/news/main-card-results-highlights-winner-interviews-ufc-310-pantoja-vs-asakura\",\n",
        "    \"https://media.ufc.tv/discover-ufc/Unified_Rules_MMA.pdf\",\n",
        "\n",
        "]\n",
        "\n",
        "converter = DocumentConverter()\n",
        "\n",
        "# Convert and chunk out documents\n",
        "i = 0\n",
        "texts: list[Document] = [\n",
        "    Document(page_content=chunk.text, metadata={\"doc_id\": (i:=i+1), \"source\": source})\n",
        "    for source in sources\n",
        "    for chunk in HybridChunker(tokenizer=embeddings_tokenizer).chunk(converter.convert(source=source).document)\n",
        "    if any(filter(lambda c: c.label in [DocItemLabel.TEXT, DocItemLabel.PARAGRAPH], iter(chunk.meta.doc_items)))\n",
        "]\n",
        "\n",
        "print(f\"{len(texts)} document chunks created\")"
      ]
    },
    {
      "cell_type": "code",
      "execution_count": 9,
      "metadata": {
        "id": "htIYVVjHPKSX",
        "colab": {
          "base_uri": "https://localhost:8080/"
        },
        "outputId": "25ec9e30-c8a8-4372-be52-29ba70fd3234"
      },
      "outputs": [
        {
          "output_type": "stream",
          "name": "stdout",
          "text": [
            "Document ID: 1\n",
            "Source: https://www.ufc.com/news/main-card-results-highlights-winner-interviews-ufc-310-pantoja-vs-asakura\n",
            "Content:\n",
            "Events\n",
            "Upcoming\n",
            "Past\n",
            "Tickets\n",
            "VIP Experiences\n",
            "Group Sales\n",
            "UFC Travel Deals\n",
            "UFC Fight Pass Invitational\n",
            "Road to UFC\n",
            "Dana White's Contender Series\n",
            "Rankings\n",
            "Athletes\n",
            "All Athletes\n",
            "Hall of Fame\n",
            "Record Book\n",
            "News\n",
            "UFC\n",
            "Connect\n",
            "Newsletter\n",
            "UFC Fight Club\n",
            "UFC Apex\n",
            "Find a Gym\n",
            "EA Sports UFC 5\n",
            "Betting Odds\n",
            "Watch\n",
            "How to Watch\n",
            "Find a Bar\n",
            "UFC Fight Pass\n",
            "UFC Video Archive\n",
            "SHOP\n",
            "UFC STORE\n",
            "UFC COLLECTIBLES\n",
            "VENUM FIGHT WEEK\n",
            "UFC STRIKE\n",
            "MORE\n",
            "Thorne Performance Solutions\n",
            "Results\n",
            "================================================================================\n",
            "Document ID: 2\n",
            "Source: https://www.ufc.com/news/main-card-results-highlights-winner-interviews-ufc-310-pantoja-vs-asakura\n",
            "Content:\n",
            "See The Fight Results, Watch Post-Fight Interviews With The Main Card Winners And More From UFC 310: Pantoja vs Asakura, Live From T-Mobile Arena In Las Vegas, Nevada\n",
            "By E. Spencer Kyte, On X @spencerkyte\n",
            " • Dec. 8, 2024\n",
            "The UFC 310 preliminary card slate was outstanding, featuring six finishes and trio of entertaining three-round battles, setting the stage for a captivating pay-per-view main card at T-Mobile Arena in Las Vegas.\n",
            "And the action in the Octagon delivered in a massive way.\n",
            "Dooho Choi kicked off the festivities with a standout performance against Nate Landwehr, finishing from a mounted crucifix in the third round before Bryce Mitchell followed suit one fight later, putting Kron Gracie to sleep with a pair of thudding elbows from inside his guard. After heavyweight contenders Ciryl Gane and Alexander Volkov paired off in a close, competitive fight where the former interim champion came away on the happy side of a split decision verdict, Shavkat Rakhmonov ensured he will face welterweight champ Belal Muhammad next year by out-hustling Ian Machado Garry, handing the Irishman his first professional setback.\n",
            "In the main event, Alexandre Pantoja successfully defended the UFC flyweight title, taking the fight to dangerous challenger Kai Asakura, finishing the Japanese striker early in the second round.\n",
            "It was a thrilling night in the fight capital of the world, and we have all the details on what transpired collected for you below.\n",
            "Main event and co-main event scheduled for five rounds. All other bouts scheduled for three rounds.\n",
            "Prelim Results | Official Scorecards\n",
            "================================================================================\n",
            "Document ID: 3\n",
            "Source: https://www.ufc.com/news/main-card-results-highlights-winner-interviews-ufc-310-pantoja-vs-asakura\n",
            "Content:\n",
            "Dooho Choi asked for a quick return following his summer win over Bill Algeo and made the most of it in the UFC 310 main card opener, turning in a dominant effort against Nate Landwehr.\n",
            "Dooho Choi Octagon Interview | UFC 310\n",
            "Unlock MORE of your inner combat sports fan with UFC Fight Pass! Fighting is what we live for. And no one brings you MORE live fights, new shows, and events across multiple combat sports from around the world. With a never-ending supply of fighting in every discipline, there’s always something new to watch. Leave it to the world’s authority in MMA to bring you the Ultimate 24/7 platform for MORE combat sports, UFC Fight Pass!\n",
            "================================================================================\n",
            "Document ID: 4\n",
            "Source: https://www.ufc.com/news/main-card-results-highlights-winner-interviews-ufc-310-pantoja-vs-asakura\n",
            "Content:\n",
            "Dooho Choi Octagon Interview | UFC 310\n",
            "Through the first two rounds, Choi was in complete control, hitting Landwehr with power shots to the body and head at range, adding in punishing calf kicks and high amplitude takedowns with ease. Landwehr came out swinging wildly to start the third, aware that he needed a finish, and Choi quickly returned him to the canvas, moving to a mounted crucifix and continuing the onslaught, forcing the stoppage.\n",
            "Just an outstanding performance from the 33-year-old “Korean Superboy.” He’s now undefeated in his last three outings and showed on Saturday that there are new elements to his game future opponents will have to contend with if they step in against him.\n",
            "Prelim Results | Official Scorecards\n",
            "================================================================================\n",
            "Document ID: 5\n",
            "Source: https://www.ufc.com/news/main-card-results-highlights-winner-interviews-ufc-310-pantoja-vs-asakura\n",
            "Content:\n",
            "Bryce Mitchell made a successful return to the Octagon at T-Mobile Arena on Saturday night, out-working Kron Gracie on the feet to get himself back into the win column.\n",
            "Bryce Mitchell Post-Fight Interview | UFC 310\n",
            "Unlock MORE of your inner combat sports fan with UFC Fight Pass! Fighting is what we live for. And no one brings you MORE live fights, new shows, and events across multiple combat sports from around the world. With a never-ending supply of fighting in every discipline, there’s always something new to watch. Leave it to the world’s authority in MMA to bring you the Ultimate 24/7 platform for MORE combat sports, UFC Fight Pass!\n",
            "================================================================================\n",
            "Document ID: 6\n",
            "Source: https://www.ufc.com/news/main-card-results-highlights-winner-interviews-ufc-310-pantoja-vs-asakura\n",
            "Content:\n",
            "Bryce Mitchell Post-Fight Interview | UFC 310\n",
            "“Thug Nasty” was clearly the more successful and effective striker of the two in the moments when the featherweights were at range. Whenever they clinched, Gracie would pull guard, and after eventually threatening with an armbar in the second, Mitchell was ready for the move early in the third, responding with a crushing elbow from inside the guard that put Gracie out.\n",
            "That was an emphatic finish and a tremendous bounce-back win for Mitchell, who was on the business end of a heavy knockout last December. A Top 15 talent in the featherweight division, this reintroduces the Arkansas native back into the mix as a dangerous threat in the 145-pound weight class.\n",
            "Prelim Results | Official Scorecards\n",
            "================================================================================\n",
            "Document ID: 7\n",
            "Source: https://www.ufc.com/news/main-card-results-highlights-winner-interviews-ufc-310-pantoja-vs-asakura\n",
            "Content:\n",
            "Top heavyweight contenders Ciryl Gane and Alexander Volkov renewed acquaintances in the middle of the UFC 310 main card, pairing together for a second time to deliver a thoroughly entertaining back-and-forth battle.\n",
            "Ciryl Gane Octagon Interview | UFC 310\n",
            "Unlock MORE of your inner combat sports fan with UFC Fight Pass! Fighting is what we live for. And no one brings you MORE live fights, new shows, and events across multiple combat sports from around the world. With a never-ending supply of fighting in every discipline, there’s always something new to watch. Leave it to the world’s authority in MMA to bring you the Ultimate 24/7 platform for MORE combat sports, UFC Fight Pass!\n",
            "================================================================================\n",
            "Document ID: 8\n",
            "Source: https://www.ufc.com/news/main-card-results-highlights-winner-interviews-ufc-310-pantoja-vs-asakura\n",
            "Content:\n",
            "Ciryl Gane Octagon Interview | UFC 310\n",
            "After the first round was marked by more wrestling than most anticipated, the duo, who fought the summer of 2021, the second was a little more varied, with Volkov hurting Gane with a spinning backfist before the former interim champion rallied to have his own positive moments in the back half of the frame. They hit the canvas early in the third, with Gane hunting a kimura that never materialized, resulting in Volkov closing out the round in top position, landing short, annoying shots through to the horn.\n",
            "When the final scores were announced, it was Gane that emerged victorious, much to his surprise and the disapproval of the audience inside T-Mobile Arena. Though he was not happy with his own performance, that’s now consecutive wins for “Bon Gamin,” who remains in the thick of the title chase heading into next year.\n",
            "Prelim Results | Official Scorecards\n",
            "================================================================================\n",
            "Document ID: 9\n",
            "Source: https://www.ufc.com/news/main-card-results-highlights-winner-interviews-ufc-310-pantoja-vs-asakura\n",
            "Content:\n",
            "Shavkat Rakhmonov got the better of Ian Machado Garry in the five-round battle of undefeated welterweight contenders that served as Saturday night’s co-main event.\n",
            "In each of the first two rounds, the standouts were separated by small margins, with a few heavier shots landed by the Kazakh fighter swinging things in his favor. Machado Garry has the better third round, showing a little more activity on the feet, only to have Rakhmonov stem his momentum in the fourth. While Machado Garry threatened from the back with a rear-naked choke throughout much of the first half of the fifth frame, Rakhmonov defended well and reversed into top position inside the Irishman’s guard before the two eventually worked back to their feet and closed out the fight clinched along the cage.\n",
            "Shavkat Rakhmonov Post-Fight Interview | UFC 310\n",
            "Unlock MORE of your inner combat sports fan with UFC Fight Pass! Fighting is what we live for. And no one brings you MORE live fights, new shows, and events across multiple combat sports from around the world. With a never-ending supply of fighting in every discipline, there’s always something new to watch. Leave it to the world’s authority in MMA to bring you the Ultimate 24/7 platform for MORE combat sports, UFC Fight Pass!\n",
            "================================================================================\n",
            "Document ID: 10\n",
            "Source: https://www.ufc.com/news/main-card-results-highlights-winner-interviews-ufc-310-pantoja-vs-asakura\n",
            "Content:\n",
            "Shavkat Rakhmonov Post-Fight Interview | UFC 310\n",
            "Rakhmonov got the nod on all three scorecards, advancing to 19-0 overall while handing Machado Garry the first loss of his career. More importantly, it keeps the undefeated contender in line to challenge champion Belal Muhammad for the title, as he was initially scheduled to do this evening.\n",
            "Though this fight results in Machado Garry getting bounced from the ranks of the unbeaten, the 27-year-old showed he’s able to hang with the division’s elite, and did so on short notice. He will remain a contender for the foreseeable future and these two could very well cross paths again down the line.\n",
            "Prelim Results | Official Scorecards\n",
            "================================================================================\n",
            "Document ID: 11\n",
            "Source: https://www.ufc.com/news/main-card-results-highlights-winner-interviews-ufc-310-pantoja-vs-asakura\n",
            "Content:\n",
            "Alexandre Pantoja is still your UFC flyweight champion, having submitted Kai Asakura in the second round to close out UFC 310.\n",
            "Alexandre Pantoja Post-Fight Interview | UFC 310\n",
            "Unlock MORE of your inner combat sports fan with UFC Fight Pass! Fighting is what we live for. And no one brings you MORE live fights, new shows, and events across multiple combat sports from around the world. With a never-ending supply of fighting in every discipline, there’s always something new to watch. Leave it to the world’s authority in MMA to bring you the Ultimate 24/7 platform for MORE combat sports, UFC Fight Pass!\n",
            "================================================================================\n",
            "Document ID: 12\n",
            "Source: https://www.ufc.com/news/main-card-results-highlights-winner-interviews-ufc-310-pantoja-vs-asakura\n",
            "Content:\n",
            "Alexandre Pantoja Post-Fight Interview | UFC 310\n",
            "The champion came out aggressively to start the fight, seeking to bring the action to Asakura. He stung the newcomer in the first and was happy to exchange through much of the first two rounds before jumping on Asakura’s back and sinking him to the canvas. From there, Pantoja attacked the choke and secured the finish.\n",
            "That’s now three consecutive successful title defenses for the Brazilian, and arguably the most impressive effort to date inside the Octagon. The American Top Team representative remains a cut above the competition in the 125-pound weight class, and heads into next year riding a seven-fight winning streak.\n",
            "Prelim Results | Official Scorecards\n",
            "UFC 310: Pantoja vs Asakura took place live from T-Mobile Arena in Las Vegas, Nevada on December 7, 2024. See the final Prelim & Main Card Results, Official Scorecards and Who Won Bonuses - and relive the action on UFC FIGHT PASS!\n",
            "Tags\n",
            "================================================================================\n",
            "Document ID: 13\n",
            "Source: https://www.ufc.com/news/main-card-results-highlights-winner-interviews-ufc-310-pantoja-vs-asakura\n",
            "Content:\n",
            "UFC AND JEREMY’S RAZORS EXPAND PARTNERSHIP\n",
            "\n",
            "\n",
            "Jeremy’s Razors Named Official Razor Partner of UFC.\n",
            "Vitor Petrino: Nothing Has Changed\n",
            "\n",
            "\n",
            "Promising Brazilian Reflects On First Loss As He Readies To Return To Action\n",
            "The Bigger Picture | UFC 310: Pantoja vs Asakura\n",
            "\n",
            "\n",
            "Diving Into The Biggest Takeaways From An Outstanding 2024 PPV Finale In Las Vegas\n",
            "Flyweight Title Bout\n",
            "Pantoja\n",
            "Asakura\n",
            "Sat, Dec 7 / 10:00 PM EST\n",
            "T-Mobile Arena, \n",
            "  Las Vegas United States\n",
            "Fans voices come first\n",
            "Favorite athlete? Fantasy match-ups?\n",
            "Comments? Leave 'em here!\n",
            "UFC.COM - United States\n",
            "Brazil\n",
            "China\n",
            "France\n",
            "Japan\n",
            "Korea\n",
            "Latin America\n",
            "Russia\n",
            "USA Espanol\n",
            "================================================================================\n",
            "Document ID: 14\n",
            "Source: https://media.ufc.tv/discover-ufc/Unified_Rules_MMA.pdf\n",
            "Content:\n",
            "'Mixed martial arts' means unarmed combat involving the use, subject to any applicable limitations set forth in these Unified Rules and other regulations of the applicable Commission, of a combination of techniques from different disciplines of the martial arts, including, without limitation, grappling, submission holds, kicking and striking.\n",
            "'Unarmed Combat' means any form of competition in which a blow is usually struck which may reasonably be expected to inflict injury.\n",
            "'Unarmed Combatant' means any person who engages in unarmed combat.\n",
            "'Commission' means the applicable athletic commission or regulatory body overseeing the bouts, exhibitions or competitions of mixed martial arts.\n",
            "================================================================================\n",
            "Document ID: 15\n",
            "Source: https://media.ufc.tv/discover-ufc/Unified_Rules_MMA.pdf\n",
            "Content:\n",
            "Except with the approval of the Commission, or its executive director, the classes for mixed martial arts contests or exhibitions and the weights for each class shall be:\n",
            "Super Heavyweight\n",
            "Flyweight, 1 = 125 pounds and under. Bantamweight, 1 = over 125 to 135 pounds. Featherweight, 1 = over 135 to 145 pounds. Lightweight, 1 = over 145 to 155 pounds. Welterweight, 1 = over 155 to 170 pounds. Middleweight, 1 = over 170 to 185 pounds. Light Heavyweight, 1 = over 185 to 205 pounds. Heavyweight, 1 = over 205 to 265 pounds. , 1 = over 265 pounds\n",
            "In non-championship fights, there shall be allowed a 1 pound weigh allowance.  In championship fights, the participants must weigh no more than that permitted for the relevant weight division.\n",
            "The Commission may also approve catch weight bouts, subject to their review and discretion.  For example, the Commission may still decide to allow the contest the maximum weight allowed is 177 pounds if it feels that the contest would still be fair, safe and competitive.\n",
            "In addition, if one athlete weighs 264 pounds while the opponent weighs 267 pounds, the Commission may still decide to allow the contest if it determines that the contest would still be\n",
            "fair, safe and competitive in spite of the fact that the two contestants technically weighed in differing weight classes.\n",
            "================================================================================\n",
            "Document ID: 16\n",
            "Source: https://media.ufc.tv/discover-ufc/Unified_Rules_MMA.pdf\n",
            "Content:\n",
            "For each bout, the promoter shall provide a clean water bucket, a clean plastic water bottle, and any other supplies as directed by the Commission, in each corner.\n",
            "================================================================================\n",
            "Document ID: 17\n",
            "Source: https://media.ufc.tv/discover-ufc/Unified_Rules_MMA.pdf\n",
            "Content:\n",
            "iv) a round is to be scored as a 10-7 round when a contestant totally dominates by striking or grappling in a round.\n",
            "K) Judges shall use a sliding scale and recognize the length of time the fighters are either standing or on the ground, as follows:\n",
            "i) If the mixed martial artists spent a majority of a round on the canvas, then:\n",
            "a. Effective grappling is weighed first; and\n",
            "b. Effective striking is then weighed\n",
            "ii) If the mixed martial artists spent a majority of a round standing, then:\n",
            "a. Effective striking is weighed first; and\n",
            "b. Effective grappling is then weighed\n",
            "iii) If a round ends with a relatively even amount of standing and canvas fighting, striking and grappling are weighed equally.\n",
            "================================================================================\n"
          ]
        }
      ],
      "source": [
        "# Print all created documents\n",
        "for document in texts:\n",
        "    print(f\"Document ID: {document.metadata['doc_id']}\")\n",
        "    print(f\"Source: {document.metadata['source']}\")\n",
        "    print(f\"Content:\\n{document.page_content}\")\n",
        "    print(\"=\" * 80)  # Separator for clarity\n"
      ]
    },
    {
      "cell_type": "markdown",
      "metadata": {
        "id": "-Bjz1IR3_JRK",
        "jupyter": {
          "outputs_hidden": false
        },
        "pycharm": {
          "name": "#%% md\n"
        }
      },
      "source": [
        "### Populate the vector database\n",
        "\n",
        "NOTE: Population of the vector database may take over a minute depending on your embedding model and service."
      ]
    },
    {
      "cell_type": "code",
      "execution_count": 10,
      "metadata": {
        "id": "YSbVb6R4_JRK",
        "colab": {
          "base_uri": "https://localhost:8080/"
        },
        "outputId": "2c68e3b4-c69b-4cd3-deb9-cce53cf57105"
      },
      "outputs": [
        {
          "output_type": "stream",
          "name": "stdout",
          "text": [
            "17 documents added to the vector database\n"
          ]
        }
      ],
      "source": [
        "ids = vector_db.add_documents(texts)\n",
        "print(f\"{len(ids)} documents added to the vector database\")"
      ]
    },
    {
      "cell_type": "markdown",
      "metadata": {
        "id": "Wq50gMAO_JRK"
      },
      "source": [
        "## Step 5: RAG with Granite"
      ]
    },
    {
      "cell_type": "markdown",
      "metadata": {
        "id": "uZOYJW0D_JRL"
      },
      "source": [
        "Now that we have succesfully converted our documents and vectorized them, we can set up out RAG pipeline."
      ]
    },
    {
      "cell_type": "markdown",
      "metadata": {
        "id": "UC_KSxFk_JRL"
      },
      "source": [
        "### Retrieve relevant chunks\n",
        "\n"
      ]
    },
    {
      "cell_type": "markdown",
      "metadata": {
        "id": "bf8T8eZk_JRL"
      },
      "source": [
        "Here we will test the as_retriever method to search through our newly created vector database for chunks that are relevant to our original query\n",
        "\n"
      ]
    },
    {
      "cell_type": "code",
      "execution_count": 11,
      "metadata": {
        "id": "pMtTSHhQ_JRL",
        "colab": {
          "base_uri": "https://localhost:8080/"
        },
        "outputId": "b82dac1e-01b8-4a61-b81f-c5406ed735ac"
      },
      "outputs": [
        {
          "output_type": "stream",
          "name": "stdout",
          "text": [
            "[Document(metadata={'doc_id': 12, 'source': 'https://www.ufc.com/news/main-card-results-highlights-winner-interviews-ufc-310-pantoja-vs-asakura', 'pk': 456313243810660363}, page_content='Alexandre Pantoja Post-Fight Interview | UFC 310\\nThe champion came out aggressively to start the fight, seeking to bring the action to Asakura. He stung the newcomer in the first and was happy to exchange through much of the first two rounds before jumping on Asakura’s back and sinking him to the canvas. From there, Pantoja attacked the choke and secured the finish.\\nThat’s now three consecutive successful title defenses for the Brazilian, and arguably the most impressive effort to date inside the Octagon. The American Top Team representative remains a cut above the competition in the 125-pound weight class, and heads into next year riding a seven-fight winning streak.\\nPrelim Results | Official Scorecards\\nUFC 310: Pantoja vs Asakura took place live from T-Mobile Arena in Las Vegas, Nevada on December 7, 2024. See the final Prelim & Main Card Results, Official Scorecards and Who Won Bonuses - and relive the action on UFC FIGHT PASS!\\nTags'), Document(metadata={'doc_id': 2, 'source': 'https://www.ufc.com/news/main-card-results-highlights-winner-interviews-ufc-310-pantoja-vs-asakura', 'pk': 456313243810660353}, page_content='See The Fight Results, Watch Post-Fight Interviews With The Main Card Winners And More From UFC 310: Pantoja vs Asakura, Live From T-Mobile Arena In Las Vegas, Nevada\\nBy E. Spencer Kyte, On X @spencerkyte\\n • Dec. 8, 2024\\nThe UFC 310 preliminary card slate was outstanding, featuring six finishes and trio of entertaining three-round battles, setting the stage for a captivating pay-per-view main card at T-Mobile Arena in Las Vegas.\\nAnd the action in the Octagon delivered in a massive way.\\nDooho Choi kicked off the festivities with a standout performance against Nate Landwehr, finishing from a mounted crucifix in the third round before Bryce Mitchell followed suit one fight later, putting Kron Gracie to sleep with a pair of thudding elbows from inside his guard. After heavyweight contenders Ciryl Gane and Alexander Volkov paired off in a close, competitive fight where the former interim champion came away on the happy side of a split decision verdict, Shavkat Rakhmonov ensured he will face welterweight champ Belal Muhammad next year by out-hustling Ian Machado Garry, handing the Irishman his first professional setback.\\nIn the main event, Alexandre Pantoja successfully defended the UFC flyweight title, taking the fight to dangerous challenger Kai Asakura, finishing the Japanese striker early in the second round.\\nIt was a thrilling night in the fight capital of the world, and we have all the details on what transpired collected for you below.\\nMain event and co-main event scheduled for five rounds. All other bouts scheduled for three rounds.\\nPrelim Results | Official Scorecards'), Document(metadata={'doc_id': 11, 'source': 'https://www.ufc.com/news/main-card-results-highlights-winner-interviews-ufc-310-pantoja-vs-asakura', 'pk': 456313243810660362}, page_content='Alexandre Pantoja is still your UFC flyweight champion, having submitted Kai Asakura in the second round to close out UFC 310.\\nAlexandre Pantoja Post-Fight Interview | UFC 310\\nUnlock MORE of your inner combat sports fan with UFC Fight Pass! Fighting is what we live for. And no one brings you MORE live fights, new shows, and events across multiple combat sports from around the world. With a never-ending supply of fighting in every discipline, there’s always something new to watch. Leave it to the world’s authority in MMA to bring you the Ultimate 24/7 platform for MORE combat sports, UFC Fight Pass!'), Document(metadata={'doc_id': 13, 'source': 'https://www.ufc.com/news/main-card-results-highlights-winner-interviews-ufc-310-pantoja-vs-asakura', 'pk': 456313243810660364}, page_content=\"UFC AND JEREMY’S RAZORS EXPAND PARTNERSHIP\\n\\n\\nJeremy’s Razors Named Official Razor Partner of UFC.\\nVitor Petrino: Nothing Has Changed\\n\\n\\nPromising Brazilian Reflects On First Loss As He Readies To Return To Action\\nThe Bigger Picture | UFC 310: Pantoja vs Asakura\\n\\n\\nDiving Into The Biggest Takeaways From An Outstanding 2024 PPV Finale In Las Vegas\\nFlyweight Title Bout\\nPantoja\\nAsakura\\nSat, Dec 7 / 10:00 PM EST\\nT-Mobile Arena, \\n  Las Vegas United States\\nFans voices come first\\nFavorite athlete? Fantasy match-ups?\\nComments? Leave 'em here!\\nUFC.COM - United States\\nBrazil\\nChina\\nFrance\\nJapan\\nKorea\\nLatin America\\nRussia\\nUSA Espanol\")]\n"
          ]
        }
      ],
      "source": [
        "retriever = vector_db.as_retriever()\n",
        "\n",
        "docs = retriever.invoke(query)\n",
        "print(docs)"
      ]
    },
    {
      "cell_type": "markdown",
      "metadata": {
        "id": "viFYsnxTS2OC"
      },
      "source": [
        "Looks like it pulled some chunks that would have the information we are looking for. Let's go ahead and contruct our RAG pipeline."
      ]
    },
    {
      "cell_type": "markdown",
      "metadata": {
        "id": "CxVuFY_A_JRL"
      },
      "source": [
        "### Create the prompt for Granite"
      ]
    },
    {
      "cell_type": "markdown",
      "metadata": {
        "id": "cvoMcqtb_JRL"
      },
      "source": [
        "Next, we construct the prompt pipeline. This creates the prompt which holds the retrieved chunks from out previous search and feeds this to the model as context for answering our question."
      ]
    },
    {
      "cell_type": "code",
      "execution_count": 12,
      "metadata": {
        "id": "PB-CPPTo_JRL"
      },
      "outputs": [],
      "source": [
        "from langchain.prompts import PromptTemplate\n",
        "from langchain.chains import create_retrieval_chain\n",
        "from langchain.chains.combine_documents import create_stuff_documents_chain\n",
        "\n",
        "# Create a prompt template for question-answering with the retrieved context.\n",
        "prompt_template = \"\"\"<|start_of_role|>system<|end_of_role|>\\\n",
        "{{\n",
        "  Context information is below.\\n---------------------\\n{context}\\n---------------------\\nGiven the context information and not prior knowledge, answer the query.\\nQuery: {input}\\nAnswer:\\n\n",
        "  }}\n",
        "}}<|end_of_text|>\n",
        "<|start_of_role|>user<|end_of_role|>{input}\"\"\"\n",
        "\n",
        "# Assemble the retrieval-augmented generation chain.\n",
        "qa_chain_prompt = PromptTemplate.from_template(prompt_template)\n",
        "combine_docs_chain = create_stuff_documents_chain(model, qa_chain_prompt)\n",
        "rag_chain = create_retrieval_chain(vector_db.as_retriever(), combine_docs_chain)"
      ]
    },
    {
      "cell_type": "markdown",
      "metadata": {
        "id": "p_NU_Yhl_JRQ",
        "jupyter": {
          "outputs_hidden": false
        },
        "pycharm": {
          "name": "#%% md\n"
        }
      },
      "source": [
        "### Generate a retrieval-augmented response to a question"
      ]
    },
    {
      "cell_type": "markdown",
      "metadata": {
        "id": "qXQzDqAB_JRQ",
        "jupyter": {
          "outputs_hidden": false
        },
        "pycharm": {
          "name": "#%% md\n"
        }
      },
      "source": [
        "The pipeline uses the query to locate documents from the vector database and use them as context for the query."
      ]
    },
    {
      "cell_type": "code",
      "execution_count": 13,
      "metadata": {
        "id": "Hdo9PXsU_JRQ",
        "jupyter": {
          "outputs_hidden": false
        },
        "pycharm": {
          "name": "#%%\n"
        },
        "colab": {
          "base_uri": "https://localhost:8080/"
        },
        "outputId": "7eb2e204-4299-4c4f-f5f8-809341a65652"
      },
      "outputs": [
        {
          "output_type": "stream",
          "name": "stdout",
          "text": [
            "Alexandre Pantoja won the fight. He successfully defended his UFC flyweight title by submitting Kai Asakura in the second round.\n"
          ]
        }
      ],
      "source": [
        "output = rag_chain.invoke({\"input\": query})\n",
        "\n",
        "print(output['answer'])"
      ]
    },
    {
      "cell_type": "markdown",
      "metadata": {
        "id": "KeErN8ZVPgf6"
      },
      "source": [
        "Awesome! It looks like the model figured out our first question. Let's see if it figure out the rule we were looking for."
      ]
    },
    {
      "cell_type": "code",
      "execution_count": 14,
      "metadata": {
        "id": "F5u06aEjThd3",
        "colab": {
          "base_uri": "https://localhost:8080/"
        },
        "outputId": "429076da-36c6-4ee7-b78e-50317a00bae3"
      },
      "outputs": [
        {
          "output_type": "stream",
          "name": "stdout",
          "text": [
            "In non-championship fights in the UFC, there is a 1-pound weight allowance.\n"
          ]
        }
      ],
      "source": [
        "output = rag_chain.invoke({\"input\": query1})\n",
        "\n",
        "print(output['answer'])"
      ]
    },
    {
      "cell_type": "markdown",
      "metadata": {
        "id": "c_uyUdCu_JRQ"
      },
      "source": [
        "Awesome! We can now see that we have created a pipeline that can successfully leverage knowledge from multiple document types for generation."
      ]
    },
    {
      "cell_type": "markdown",
      "metadata": {
        "id": "GTaX1-SPT6rU"
      },
      "source": [
        "## Next Steps\n",
        "\n",
        "- Explore advanced RAG workflows for other industries\n",
        "- Experiment with other document types and larger datasets.\n",
        "- Optimize prompt engineering for better Granite responses.\n",
        "\n",
        "Thank you for using this recipe!"
      ]
    }
  ],
  "metadata": {
    "colab": {
      "provenance": [],
      "include_colab_link": true
    },
    "language_info": {
      "name": "python"
    },
    "kernelspec": {
      "name": "python3",
      "display_name": "Python 3"
    }
  },
  "nbformat": 4,
  "nbformat_minor": 0
}